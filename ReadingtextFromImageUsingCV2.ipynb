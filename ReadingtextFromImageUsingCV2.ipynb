{
  "nbformat": 4,
  "nbformat_minor": 0,
  "metadata": {
    "colab": {
      "name": "ReadingtextFromImageUsingCV2.ipynb",
      "provenance": [],
      "authorship_tag": "ABX9TyMBq5H7yjYQBZ8FyHX8JaoC",
      "include_colab_link": true
    },
    "kernelspec": {
      "name": "python3",
      "display_name": "Python 3"
    }
  },
  "cells": [
    {
      "cell_type": "markdown",
      "metadata": {
        "id": "view-in-github",
        "colab_type": "text"
      },
      "source": [
        "<a href=\"https://colab.research.google.com/github/kvdprasad89ai/machine-learning/blob/master/ReadingtextFromImageUsingCV2.ipynb\" target=\"_parent\"><img src=\"https://colab.research.google.com/assets/colab-badge.svg\" alt=\"Open In Colab\"/></a>"
      ]
    },
    {
      "cell_type": "code",
      "metadata": {
        "id": "aCt-FXz2KWV3",
        "colab_type": "code",
        "colab": {}
      },
      "source": [
        "import cv2\n",
        "import numpy as np\n",
        "import pandas as pd\n",
        "import requests\n",
        "import io\n",
        "import json\n",
        "import os\n",
        "from google.colab import drive"
      ],
      "execution_count": 1,
      "outputs": []
    },
    {
      "cell_type": "code",
      "metadata": {
        "id": "HDr3dxeMUErC",
        "colab_type": "code",
        "colab": {
          "base_uri": "https://localhost:8080/",
          "height": 121
        },
        "outputId": "d1df17bf-de41-482d-f83f-44c9e5808660"
      },
      "source": [
        "drive.mount(\"/content/drive\", force_remount=True)"
      ],
      "execution_count": 2,
      "outputs": [
        {
          "output_type": "stream",
          "text": [
            "Go to this URL in a browser: https://accounts.google.com/o/oauth2/auth?client_id=947318989803-6bn6qk8qdgf4n4g3pfee6491hc0brc4i.apps.googleusercontent.com&redirect_uri=urn%3aietf%3awg%3aoauth%3a2.0%3aoob&response_type=code&scope=email%20https%3a%2f%2fwww.googleapis.com%2fauth%2fdocs.test%20https%3a%2f%2fwww.googleapis.com%2fauth%2fdrive%20https%3a%2f%2fwww.googleapis.com%2fauth%2fdrive.photos.readonly%20https%3a%2f%2fwww.googleapis.com%2fauth%2fpeopleapi.readonly\n",
            "\n",
            "Enter your authorization code:\n",
            "··········\n",
            "Mounted at /content/drive\n"
          ],
          "name": "stdout"
        }
      ]
    },
    {
      "cell_type": "code",
      "metadata": {
        "id": "WC-6iQsjygjU",
        "colab_type": "code",
        "colab": {
          "base_uri": "https://localhost:8080/",
          "height": 34
        },
        "outputId": "f15826d2-c023-4198-d0fb-2408e174e319"
      },
      "source": [
        "cwd = os.getcwd()  # Get the current working directory (cwd)\n",
        "files = os.listdir(cwd)  # Get all the files in that directory\n",
        "print(\"Files in %r: %s\" % (cwd, files))"
      ],
      "execution_count": 3,
      "outputs": [
        {
          "output_type": "stream",
          "text": [
            "Files in '/content': ['.config', 'drive', 'sample_data']\n"
          ],
          "name": "stdout"
        }
      ]
    },
    {
      "cell_type": "code",
      "metadata": {
        "id": "XO9ZrRRaviCe",
        "colab_type": "code",
        "colab": {
          "base_uri": "https://localhost:8080/",
          "height": 151
        },
        "outputId": "799dc9ac-aa07-4d39-aa63-1770da9d28db"
      },
      "source": [
        "folder_path = \"/content/drive/My Drive/OCR_image_text_detection/data/\"\n",
        "def load_images_from_folder(folder_path):\n",
        "    image_dic = {}\n",
        "    images = []\n",
        "    for filename in os.listdir(folder_path):\n",
        "        print(filename)\n",
        "        img = cv2.imread(os.path.join(folder_path,filename))\n",
        "        if img is not None:\n",
        "            images.append(img)\n",
        "            image_dic[filename] = img\n",
        "    return images,image_dic\n",
        "images_list,image_dic = load_images_from_folder(folder_path)"
      ],
      "execution_count": 4,
      "outputs": [
        {
          "output_type": "stream",
          "text": [
            "Time series.PNG\n",
            "image data.PNG\n",
            "chat bots.PNG\n",
            "chat bot 2.PNG\n",
            "NLP 3.PNG\n",
            "Chat Bods Intro.PNG\n",
            "NLP2.PNG\n",
            "NLP with Chotbot.PNG\n"
          ],
          "name": "stdout"
        }
      ]
    },
    {
      "cell_type": "code",
      "metadata": {
        "id": "z2yJ3K4QwHhI",
        "colab_type": "code",
        "colab": {
          "base_uri": "https://localhost:8080/",
          "height": 151
        },
        "outputId": "7488b100-f73d-4e97-a5e3-d85f74840845"
      },
      "source": [
        "def get_image_info(image_dic):\n",
        "  for key in image_dic:\n",
        "    image_name = image_dic[key]\n",
        "    height, width, _ = image_name.shape\n",
        "    print(\"Image Name:{},Image Height:{}, Image Width:{}\".format(key,height, width))\n",
        "\n",
        "get_image_info(image_dic)"
      ],
      "execution_count": 5,
      "outputs": [
        {
          "output_type": "stream",
          "text": [
            "Image Name:Time series.PNG,Image Height:820, Image Width:1009\n",
            "Image Name:image data.PNG,Image Height:801, Image Width:924\n",
            "Image Name:chat bots.PNG,Image Height:818, Image Width:945\n",
            "Image Name:chat bot 2.PNG,Image Height:801, Image Width:941\n",
            "Image Name:NLP 3.PNG,Image Height:749, Image Width:1127\n",
            "Image Name:Chat Bods Intro.PNG,Image Height:781, Image Width:677\n",
            "Image Name:NLP2.PNG,Image Height:780, Image Width:837\n",
            "Image Name:NLP with Chotbot.PNG,Image Height:838, Image Width:790\n"
          ],
          "name": "stdout"
        }
      ]
    },
    {
      "cell_type": "code",
      "metadata": {
        "id": "aDTcYAuzLIKe",
        "colab_type": "code",
        "colab": {}
      },
      "source": [
        "# Ocr\n",
        "url_api = \"https://api.ocr.space/parse/image\"\n"
      ],
      "execution_count": 6,
      "outputs": []
    },
    {
      "cell_type": "code",
      "metadata": {
        "id": "TDCiYKQLLZl5",
        "colab_type": "code",
        "colab": {
          "base_uri": "https://localhost:8080/",
          "height": 54
        },
        "outputId": "c5961feb-2a16-44cd-feba-3d95a6eef750"
      },
      "source": [
        "text_dict = {}\n",
        "def getText_From_Image(image_dic):\n",
        "  for key in image_dic:\n",
        "    image_name = image_dic[key]\n",
        "    _, compressedimage = cv2.imencode(\".PNG\", image_name, [1, 90])\n",
        "    file_bytes = io.BytesIO(compressedimage)\n",
        "    result = requests.post(url_api,\n",
        "              files = {key: file_bytes},\n",
        "              data = {\"apikey\": \"ae902d73cd88957\",\n",
        "                      \"language\": \"eng\"})\n",
        "    \n",
        "    result = result.content.decode()\n",
        "    result = json.loads(result)\n",
        "    parsed_results = result.get(\"ParsedResults\")[0]\n",
        "    text_detected = parsed_results.get(\"ParsedText\")\n",
        "    #print(text_detected)\n",
        "    text_dict[key] = text_detected\n",
        "  #return  text_dict\n",
        "getText_From_Image(image_dic)\n",
        "print(text_dict)"
      ],
      "execution_count": 7,
      "outputs": [
        {
          "output_type": "stream",
          "text": [
            "{'Time series.PNG': 'Understanding Time Series\\r\\nData\\r\\nIn the previous chapter, we touched upon a general approach of time series analysis which\\r\\nconsists of two main steps:\\r\\n• Data visualization to check the presence of trend, seasonality, and cyclical\\r\\npatterns\\r\\n• Adjustment of trend and seasonality to generate stationary series\\r\\nGenerating stationary data is important for enhancing the time series forecasting model.\\r\\nDeduction of the trend, seasonal, and cyclical components would leave us with irregular\\r\\nfluctuations which cannot be modeled by using only the time index as an explanatory\\r\\nvariable. Therefore, in order to further improve forecasting, the irregular fluctuations are\\r\\nassumed to be independent and identically distributed (iid) observations and modeled by\\r\\na linear regression on variables other than the time index.\\r\\nFor example, house prices might exhibit both trend and seasonal (for example, quarterly)\\r\\nvariations. However, the residuals left after adjusting trend and seasonality might actually\\r\\ndepend on exogenous variables, such as total floor space, number of floors in the building\\r\\nand so on, which depend on specific instances in the sampled data. Therefore trend and\\r\\nseasonality adjustments along with a model on exogenous variables would be a better\\r\\nforecast for future instances of the time series.\\r\\nChanging the original time series to iid observations, or in other words stationarizing a time\\r\\nseries, is an important step for developing the linear regression model on exogenous\\r\\nvariables. This is because there exist well-established statistical methods, for example\\r\\ncentral limit theorem, least squares method, and so on, which work well for iid\\r\\nobservations.\\r\\n', 'image data.PNG': \"Tensors - multidimensional arrays\\r\\nNow that we've learned a bit about MNIST digits, we're going to take the time to look at a\\r\\ntensor, and what a tensor is. We're going to be looking at a NumPy of multidimensional\\r\\narrays. Multidimensional arrays are also called tensors. The math vocabulary can be mildly\\r\\noverwhelming, but we're going to show you that it's a lot simpler than you might think.\\r\\nThen, we'll look at tensor shape. Tensor shape is really the number of dimensions, or, in\\r\\nterms of arrays, the number of different indices that you would use to access them. And\\r\\nthen finally, we're going to look at datatypes. The tensors, or multidimensional arrays, can\\r\\nhold a wide array of different datatypes, and we'll explain some of the differences.\\r\\nLet's start with the basics. The most basic tensor you can imagine is a one tensor, which, in\\r\\nprogramming language is just called an array. It is just an ordered series of individual\\r\\nnumbers packed together. Next up is a two tensor. If you look at the Grey scale image (arrays\\r\\nof array) screenshot, each row is of one dimension, and each column is another dimension.\\r\\n[26]\\r\\nImage Data\\r\\nChapter 2\\r\\nSo, row by row, this adds up to being a two tensor. Again, it's just an array of arrays. And\\r\\nyou can see that there are trained images with the bracket zero; we're actually picking out\\r\\nthe first image in an array of images. So, a three tensor, preceding with image data, is\\r\\nactually an array of images, each with an array of columns and rows of pixels. So, a three\\r\\ntensor is our basic way of storing black and white images.\\r\\n\", 'chat bots.PNG': \"CHAPTERI THE BELOVED CHATBOTS\\r\\nYou just type what you want, and the bot should be able to either give you what\\r\\nyou want or should guide you how to get that. In other words, it should point you to the\\r\\ncorrect information by giving you a link or document. The time has come where bots are\\r\\nable to even dig up the information from an article and document and provide it to the\\r\\nusers.\\r\\nSignificant progress in A1 by companies like Google, Facebook, and IBM and by\\r\\nmachine learning services like Amazon Lex, wit.ai, api.ai, luis.ai, IBM Watson, Amazon\\r\\nEcho, etc. has led to the extraordinary growth and demand of such robots.\\r\\nThe Need for Chatbots\\r\\nNow, we will try to look at the need and demand of chatbots in this fast-growing\\r\\ninformation creation and retrieval age from two different perspectives: the business\\r\\nstandpoint and the developer's perspective. So, if you are a product manager, sales\\r\\nmanager, or from marketing or any related domain that drives the business directly,\\r\\nthen you should not skip the business perspective of the chatbots. It will give you a clear\\r\\npicture that businesses today need to adopt this technology to drive more revenue.\\r\\nThe Business Perspective\\r\\nWe will try to look at the business perspective of the chatbots. Is it good for a business to\\r\\nhave a chatbot or to migrate lots of stuff to be done by chatbots?\\r\\nThe time has already come for businesses to treat chatbots as one of the marketing\\r\\ntools of this generation.\\r\\n\", 'chat bot 2.PNG': \"Feature Releases and Bug Fixes\\r\\nLots of features can be added to the chatbot painlessly without having your users update\\r\\nyour chatbot app. It might be a pain in the neck if you released a version of the app with\\r\\nsome bug, and you have to fix it and release again in the AppStore for approval, and,\\r\\nmost importantly, the users will have to update the app after all. If they don't update,\\r\\nthen the customer will keep complaining about the issue, which results in productivity\\r\\nloss for everyone. In chatbots, everything is API-based, so you just fix the issue in the\\r\\nbackend, deploy the changes in PRODUCTION, and woaah—issue fixed for your users\\r\\nwithout any worry. You save lots of time from user-reported bugs as well.\\r\\nImagine you built a bot to find restaurants and later you wanted to add the capability\\r\\nof searching for hotels, flights, etc. Users can easily just request such information, and\\r\\nyour backend chatbot system will take care of everything.\\r\\nSuppose you are building a Facebook Messenger chatbot; you can control almost\\r\\neverything, including what interface the user sees in his app, directly from your backend.\\r\\nIn Facebook Messenger bots, you can choose whether the user gets to click on a button\\r\\nto say Yes/ No or just enters simple text.\\r\\nMarket Demand\\r\\nFifty-four percent of the developers worldwide worked on chatbots for the first time in\\r\\n2016. There is a huge demand for building a simple chatbot that works for companies,\\r\\nand they are looking for developers who can build it for them. Once you have completed\\r\\nChapter 3 of this book I bet you can start selling your services to companies easily. You\\r\\ncan also do your own startup in an area of your expertise by introducing a chatbot for\\r\\nthat domain. Being able to build a chatbot end-to-end is a new skill to have, and that's\\r\\nthe reason average market pay is also very good for chatbot developers.\\r\\n\", 'NLP 3.PNG': \"Natural Language Processing (NLP)\\r\\nNLP is an A1 and Machine Learning technology that enables machines to process huge amounts of\\r\\nstructured and unstructured customer data. It involves speech and text-based communication. It is a\\r\\ntechnology behind chatbots, virtual assistants, online translation services and many more.\\r\\nImagine a customer who wants to buy trek shoes that are in red color. He/she will search on an ecommerce\\r\\nwebsite by entering a search query as 'red trek shoes' or 'red shoes for trekking'. A search engine that is not\\r\\npowered by NLP would show the images of red-colored regular shoes or trek shoes in any color as it cannot\\r\\naccurately interpret the language. The search engine, without NLP, won't be able to understand the context\\r\\nand the exact intent of the user. This traditional search process is continuously trained and improved with\\r\\nNLP and provides the customer with the images of red trek shoe products.\\r\\nHow will the retail business benefit from NLP?\\r\\n1. cost-effective\\r\\nNLP is a cost-effective alternative for text recognition and mining. Insights from unstructured data like\\r\\ncustomer feedbacks, answers to queries, their preferences in the coming festival seasons, holidaying trends,\\r\\ntheir expectations concerning the product and services, etc., will require huge manpower and will be an\\r\\nexpensive effort. But, with deep learning-based NLP, automated platforms can be provided to gain such\\r\\nindustry-related knowledge, thus making it cost-effective.\\r\\n\", 'Chat Bods Intro.PNG': \"CHAPTER 1\\r\\nUsing Decision Trees in Chatbots\\r\\nTHE BELOVED CHATBOTS\\r\\nIn the context of chatbots, a decision tree simply assists us in finding the exact answer to\\r\\na user's question.\\r\\nA decision tree is a decision support tool that uses a tree-like graph or model\\r\\nof decisions and their possible consequences, including chance event out-\\r\\ncomes, resource costs, and utility. It is one way to display an algorithm that\\r\\nonly contains conditional control statements.\\r\\nWikipedia\\r\\nThe most difficult part when building a chatbot is to keep track of if.. .else code\\r\\nblocks. The greater the number of decisions to make, the more frequently if.. else comes\\r\\nup in the code. But at the same time these blocks are required to encode the complex\\r\\nconversational flows. If the problem is complex and requires a lot of if... else in real-life,\\r\\nthen that will require code to adjust in the same way.\\r\\nHow Does a Decision Tree Help?\\r\\nDecision trees are simple to write and understand, but they are a powerful\\r\\nrepresentation of the solution made for the problem in question. They inherit a unique\\r\\ncapability to help us understand a lot of things.\\r\\nHelp in creating a full picture of the problem at hand. Looking at the\\r\\ndecision tree, we can easily understand what's missing or what needs\\r\\nto be modified.\\r\\nHelps debug faster. Decision trees are like a short bible or, say,\\r\\na visual representation of a software requirement specification\\r\\ndocument, which can be referred by developers, product managers,\\r\\nor leadership to explain the expected behavior or make any changes\\r\\nif needed.\\r\\nA1 is still not at that stage that it can be trained with lots of data and\\r\\nperform with 100 percent accuracy. It still requires a lot of hand-\\r\\nholding by writing business logic and rules. Decision trees help\\r\\n\", 'NLP2.PNG': \"1.1\\r\\nNatural language vs. programming language\\r\\nNatural languages are different from computer programming languages. They aren't\\r\\nintended to be translated into a finite set of mathematical operations, like program-\\r\\nming languages are. Natural languages are what humans use to share information\\r\\nwith each other. We don't use programming languages to tell each other about our\\r\\nday or to give directions to the grocery store. A computer program written with a pro-\\r\\ngramming language tells a machine exactly what to do. But there are no compilers or\\r\\ninterpreters for natural languages such as English and French.\\r\\nDEFINITION Natural language Processing is an area of research in computer sci-\\r\\nence and artificial intelligence (A1) concerned with processing natural lan-\\r\\nguages such as English or Mandarin. This processing generally involves\\r\\ntranslating natural language into data (numbers) that a computer can use to\\r\\nlearn about the world. And this understanding of the world is sometimes used\\r\\nto generate natural language text that reflects that understanding.\\r\\nNonetheless, this chapter shows you how a machine can Process natural language. You\\r\\nmight even think of this as a natural language interpreter, just like the Python inter-\\r\\npreter. When the computer program you develop processes natural language, it will\\r\\nbe able to act on those statements or even reply to them. But these actions and replies\\r\\naren't precisely defined, which leaves more discretion up to you, the developer of the\\r\\nnatural language pipeline.\\r\\nDEFINITION A natural language processing system is often referred to as a\\r\\npipeline because it usually involves several stages of processing where natural\\r\\nlanguage flows in one end and the processed output flows out the other.\\r\\nYou'll soon have the power to write software that does interesting, unpredictable\\r\\nthings, like carry on a conversation, which can make machines seem a bit more\\r\\nhuman. It may seem a bit like magic—at first, all advanced technology does. But we\\r\\npull back the curtain so you can explore backstage, and you'll soon discover all the\\r\\nprops and tools you need to do the magic tricks yourself.\\r\\n\", 'NLP with Chotbot.PNG': 'Most chatbots will contain elements of all five of these subsystems (the four processing\\r\\nstages as well as the database). But many applications require only simple algorithms for\\r\\nmany of these steps. Some chatbots are better at answering factual questions, and oth-\\r\\ners are better at generating lengthy, complex, convincingly human responses. Each of\\r\\nthese capabilities require different approaches; we show you techniques for both.\\r\\nIn addition, deep learning and data-driven programming (machine learning, or\\r\\nprobabilistic language modeling) have rapidly diversified the possible applications for\\r\\nNLP and chatbots. This data-driven approach allows ever greater sophistication for an\\r\\nNLP pipeline by providing it with greater and greater amounts of data in the domain\\r\\nyou want to apply it to. And when a new machine learning approach is discovered that\\r\\nmakes even better use of this data, with more efficient model generalization or regu-\\r\\nlarization, then large jumps in capability are possible.\\r\\nThe NLP pipeline for a chatbot shown in figure 1.3 contains all the building blocks\\r\\nfor most of the NLP applications that we described at the start of this chapter. As in\\r\\nTaming Text, we break out our pipeline into four main subsystems or stages. In addi-\\r\\ntion, we\\'ve explicitly called out a database to record data required for each of these\\r\\nstages and persist their configuration and training sets over time. This can enable\\r\\nbatch or online retraining of each of the stages as the chatbot interacts with the world.\\r\\nWe\\'ve also shown a \"feedback loop\" on our generated text responses so that our\\r\\nresponses can be processed using the same algorithms used to process the user state-\\r\\nments. The response \"scores\" or features can then be combined in an objective func-\\r\\ntion to evaluate and select the best possible response, depending on the chatbot\\'s\\r\\nplan or goals for the dialog. This book is focused on configuring this NLP pipeline for\\r\\na chatbot, but you may also be able to see the analogy to the NLP problem of text\\r\\nretrieval or \"search,\" perhaps the most common NLP application. And our chatbot\\r\\npipeline is certainly appropriate for the question answering application that was the\\r\\nfocus of Taming Text.\\r\\nThe application of this pipeline to financial forecasting or business analytics may\\r\\nnot be so obvious. But imagine the features generated by the analysis portion of your\\r\\npipeline. These features of your analysis or feature generation can be optimized for\\r\\nyour particular finance or business prediction. That way they can help you incorpo-\\r\\nrate natural language data into a machine learning pipeline for forecasting. Despite\\r\\nfocusing on building a chatbot, this book gives you the tools you need for a broad\\r\\nrange of NLP applications, from search to financial forecasting.\\r\\n'}\n"
          ],
          "name": "stdout"
        }
      ]
    },
    {
      "cell_type": "code",
      "metadata": {
        "id": "EGTDEkMd-gLM",
        "colab_type": "code",
        "colab": {
          "base_uri": "https://localhost:8080/",
          "height": 284
        },
        "outputId": "524c2817-3e71-4eb8-8f89-b15c666f9f26"
      },
      "source": [
        "text_dataframe = pd.DataFrame(list(text_dict.items()),columns = ['file_name','text'])\n",
        "text_dataframe"
      ],
      "execution_count": 8,
      "outputs": [
        {
          "output_type": "execute_result",
          "data": {
            "text/html": [
              "<div>\n",
              "<style scoped>\n",
              "    .dataframe tbody tr th:only-of-type {\n",
              "        vertical-align: middle;\n",
              "    }\n",
              "\n",
              "    .dataframe tbody tr th {\n",
              "        vertical-align: top;\n",
              "    }\n",
              "\n",
              "    .dataframe thead th {\n",
              "        text-align: right;\n",
              "    }\n",
              "</style>\n",
              "<table border=\"1\" class=\"dataframe\">\n",
              "  <thead>\n",
              "    <tr style=\"text-align: right;\">\n",
              "      <th></th>\n",
              "      <th>file_name</th>\n",
              "      <th>text</th>\n",
              "    </tr>\n",
              "  </thead>\n",
              "  <tbody>\n",
              "    <tr>\n",
              "      <th>0</th>\n",
              "      <td>Time series.PNG</td>\n",
              "      <td>Understanding Time Series\\r\\nData\\r\\nIn the pr...</td>\n",
              "    </tr>\n",
              "    <tr>\n",
              "      <th>1</th>\n",
              "      <td>image data.PNG</td>\n",
              "      <td>Tensors - multidimensional arrays\\r\\nNow that ...</td>\n",
              "    </tr>\n",
              "    <tr>\n",
              "      <th>2</th>\n",
              "      <td>chat bots.PNG</td>\n",
              "      <td>CHAPTERI THE BELOVED CHATBOTS\\r\\nYou just type...</td>\n",
              "    </tr>\n",
              "    <tr>\n",
              "      <th>3</th>\n",
              "      <td>chat bot 2.PNG</td>\n",
              "      <td>Feature Releases and Bug Fixes\\r\\nLots of feat...</td>\n",
              "    </tr>\n",
              "    <tr>\n",
              "      <th>4</th>\n",
              "      <td>NLP 3.PNG</td>\n",
              "      <td>Natural Language Processing (NLP)\\r\\nNLP is an...</td>\n",
              "    </tr>\n",
              "    <tr>\n",
              "      <th>5</th>\n",
              "      <td>Chat Bods Intro.PNG</td>\n",
              "      <td>CHAPTER 1\\r\\nUsing Decision Trees in Chatbots\\...</td>\n",
              "    </tr>\n",
              "    <tr>\n",
              "      <th>6</th>\n",
              "      <td>NLP2.PNG</td>\n",
              "      <td>1.1\\r\\nNatural language vs. programming langua...</td>\n",
              "    </tr>\n",
              "    <tr>\n",
              "      <th>7</th>\n",
              "      <td>NLP with Chotbot.PNG</td>\n",
              "      <td>Most chatbots will contain elements of all fiv...</td>\n",
              "    </tr>\n",
              "  </tbody>\n",
              "</table>\n",
              "</div>"
            ],
            "text/plain": [
              "              file_name                                               text\n",
              "0       Time series.PNG  Understanding Time Series\\r\\nData\\r\\nIn the pr...\n",
              "1        image data.PNG  Tensors - multidimensional arrays\\r\\nNow that ...\n",
              "2         chat bots.PNG  CHAPTERI THE BELOVED CHATBOTS\\r\\nYou just type...\n",
              "3        chat bot 2.PNG  Feature Releases and Bug Fixes\\r\\nLots of feat...\n",
              "4             NLP 3.PNG  Natural Language Processing (NLP)\\r\\nNLP is an...\n",
              "5   Chat Bods Intro.PNG  CHAPTER 1\\r\\nUsing Decision Trees in Chatbots\\...\n",
              "6              NLP2.PNG  1.1\\r\\nNatural language vs. programming langua...\n",
              "7  NLP with Chotbot.PNG  Most chatbots will contain elements of all fiv..."
            ]
          },
          "metadata": {
            "tags": []
          },
          "execution_count": 8
        }
      ]
    },
    {
      "cell_type": "markdown",
      "metadata": {
        "id": "yFFX0LJQ_7Zr",
        "colab_type": "text"
      },
      "source": [
        "Preprocessing\n"
      ]
    },
    {
      "cell_type": "code",
      "metadata": {
        "id": "-pE4cLnn_9cu",
        "colab_type": "code",
        "colab": {
          "base_uri": "https://localhost:8080/",
          "height": 50
        },
        "outputId": "bac0e671-3a48-4668-d562-5544e5a99fe6"
      },
      "source": [
        "from sklearn.feature_extraction.text import TfidfVectorizer\n",
        "tfidf = TfidfVectorizer(max_df=0.95, min_df=2, stop_words='english')\n",
        "dtm = tfidf.fit_transform(text_dataframe['text'])\n",
        "dtm"
      ],
      "execution_count": 9,
      "outputs": [
        {
          "output_type": "execute_result",
          "data": {
            "text/plain": [
              "<8x130 sparse matrix of type '<class 'numpy.float64'>'\n",
              "\twith 326 stored elements in Compressed Sparse Row format>"
            ]
          },
          "metadata": {
            "tags": []
          },
          "execution_count": 9
        }
      ]
    },
    {
      "cell_type": "markdown",
      "metadata": {
        "id": "oWJHuBT-AqEx",
        "colab_type": "text"
      },
      "source": [
        "Non-negative Matrix Factorization\n"
      ]
    },
    {
      "cell_type": "code",
      "metadata": {
        "id": "3PVRJsllAreH",
        "colab_type": "code",
        "colab": {
          "base_uri": "https://localhost:8080/",
          "height": 67
        },
        "outputId": "408db8bd-348e-4380-c661-41db19ee52c5"
      },
      "source": [
        "from sklearn.decomposition import NMF\n",
        "nmf_model = NMF(n_components=4,random_state=42)\n",
        "nmf_model.fit(dtm)"
      ],
      "execution_count": 10,
      "outputs": [
        {
          "output_type": "execute_result",
          "data": {
            "text/plain": [
              "NMF(alpha=0.0, beta_loss='frobenius', init=None, l1_ratio=0.0, max_iter=200,\n",
              "    n_components=4, random_state=42, shuffle=False, solver='cd', tol=0.0001,\n",
              "    verbose=0)"
            ]
          },
          "metadata": {
            "tags": []
          },
          "execution_count": 10
        }
      ]
    },
    {
      "cell_type": "markdown",
      "metadata": {
        "id": "YIaorVHqA3Li",
        "colab_type": "text"
      },
      "source": [
        "TASK: Print our the top 15 most common words for each of the 20 topics."
      ]
    },
    {
      "cell_type": "code",
      "metadata": {
        "id": "-_Pw2giKA36r",
        "colab_type": "code",
        "colab": {
          "base_uri": "https://localhost:8080/",
          "height": 286
        },
        "outputId": "d4d7cfb3-9988-4c75-9975-db3a94c41101"
      },
      "source": [
        "for index,topic in enumerate(nmf_model.components_):\n",
        "    print(f'THE TOP 15 WORDS FOR TOPIC #{index}')\n",
        "    print([tfidf.get_feature_names()[i] for i in topic.argsort()[-15:]])\n",
        "    print('\\n')"
      ],
      "execution_count": 11,
      "outputs": [
        {
          "output_type": "stream",
          "text": [
            "THE TOP 15 WORDS FOR TOPIC #0\n",
            "['need', 'user', 'just', 'companies', 'facebook', 'document', 'lots', 'information', 'help', 'developers', 'demand', 'users', 'business', 'chatbot', 'chatbots']\n",
            "\n",
            "\n",
            "THE TOP 15 WORDS FOR TOPIC #1\n",
            "['require', 'based', 'huge', 'machine', 'chatbot', 'process', 'language', 'stages', 'data', 'text', 'learning', 'customer', 'pipeline', 'search', 'nlp']\n",
            "\n",
            "\n",
            "THE TOP 15 WORDS FOR TOPIC #2\n",
            "['better', 'chapter', 'different', 'll', 'called', 'forecasting', 'just', 'number', 'model', 'actually', 'data', 'images', 'look', 'time', 'series']\n",
            "\n",
            "\n",
            "THE TOP 15 WORDS FOR TOPIC #3\n",
            "['machine', 'understanding', 'involves', 'world', 'does', 'flows', 'pipeline', 'bit', 'll', 'use', 'programming', 'like', 'processing', 'language', 'natural']\n",
            "\n",
            "\n"
          ],
          "name": "stdout"
        }
      ]
    },
    {
      "cell_type": "code",
      "metadata": {
        "id": "nO-Te3-zBos-",
        "colab_type": "code",
        "colab": {
          "base_uri": "https://localhost:8080/",
          "height": 284
        },
        "outputId": "5c3fd421-e66e-45c0-a70d-bf9b44e518b5"
      },
      "source": [
        "topic_results = nmf_model.transform(dtm)\n",
        "#topic_results.argmax(axis=1)\n",
        "\n",
        "text_dataframe['Topic'] = topic_results.argmax(axis=1)\n",
        "\n",
        "text_dataframe\n"
      ],
      "execution_count": 12,
      "outputs": [
        {
          "output_type": "execute_result",
          "data": {
            "text/html": [
              "<div>\n",
              "<style scoped>\n",
              "    .dataframe tbody tr th:only-of-type {\n",
              "        vertical-align: middle;\n",
              "    }\n",
              "\n",
              "    .dataframe tbody tr th {\n",
              "        vertical-align: top;\n",
              "    }\n",
              "\n",
              "    .dataframe thead th {\n",
              "        text-align: right;\n",
              "    }\n",
              "</style>\n",
              "<table border=\"1\" class=\"dataframe\">\n",
              "  <thead>\n",
              "    <tr style=\"text-align: right;\">\n",
              "      <th></th>\n",
              "      <th>file_name</th>\n",
              "      <th>text</th>\n",
              "      <th>Topic</th>\n",
              "    </tr>\n",
              "  </thead>\n",
              "  <tbody>\n",
              "    <tr>\n",
              "      <th>0</th>\n",
              "      <td>Time series.PNG</td>\n",
              "      <td>Understanding Time Series\\r\\nData\\r\\nIn the pr...</td>\n",
              "      <td>2</td>\n",
              "    </tr>\n",
              "    <tr>\n",
              "      <th>1</th>\n",
              "      <td>image data.PNG</td>\n",
              "      <td>Tensors - multidimensional arrays\\r\\nNow that ...</td>\n",
              "      <td>2</td>\n",
              "    </tr>\n",
              "    <tr>\n",
              "      <th>2</th>\n",
              "      <td>chat bots.PNG</td>\n",
              "      <td>CHAPTERI THE BELOVED CHATBOTS\\r\\nYou just type...</td>\n",
              "      <td>0</td>\n",
              "    </tr>\n",
              "    <tr>\n",
              "      <th>3</th>\n",
              "      <td>chat bot 2.PNG</td>\n",
              "      <td>Feature Releases and Bug Fixes\\r\\nLots of feat...</td>\n",
              "      <td>0</td>\n",
              "    </tr>\n",
              "    <tr>\n",
              "      <th>4</th>\n",
              "      <td>NLP 3.PNG</td>\n",
              "      <td>Natural Language Processing (NLP)\\r\\nNLP is an...</td>\n",
              "      <td>1</td>\n",
              "    </tr>\n",
              "    <tr>\n",
              "      <th>5</th>\n",
              "      <td>Chat Bods Intro.PNG</td>\n",
              "      <td>CHAPTER 1\\r\\nUsing Decision Trees in Chatbots\\...</td>\n",
              "      <td>0</td>\n",
              "    </tr>\n",
              "    <tr>\n",
              "      <th>6</th>\n",
              "      <td>NLP2.PNG</td>\n",
              "      <td>1.1\\r\\nNatural language vs. programming langua...</td>\n",
              "      <td>3</td>\n",
              "    </tr>\n",
              "    <tr>\n",
              "      <th>7</th>\n",
              "      <td>NLP with Chotbot.PNG</td>\n",
              "      <td>Most chatbots will contain elements of all fiv...</td>\n",
              "      <td>1</td>\n",
              "    </tr>\n",
              "  </tbody>\n",
              "</table>\n",
              "</div>"
            ],
            "text/plain": [
              "              file_name  ... Topic\n",
              "0       Time series.PNG  ...     2\n",
              "1        image data.PNG  ...     2\n",
              "2         chat bots.PNG  ...     0\n",
              "3        chat bot 2.PNG  ...     0\n",
              "4             NLP 3.PNG  ...     1\n",
              "5   Chat Bods Intro.PNG  ...     0\n",
              "6              NLP2.PNG  ...     3\n",
              "7  NLP with Chotbot.PNG  ...     1\n",
              "\n",
              "[8 rows x 3 columns]"
            ]
          },
          "metadata": {
            "tags": []
          },
          "execution_count": 12
        }
      ]
    },
    {
      "cell_type": "code",
      "metadata": {
        "id": "Cq55PPrtDhZL",
        "colab_type": "code",
        "colab": {
          "base_uri": "https://localhost:8080/",
          "height": 284
        },
        "outputId": "924efdc1-dac8-4222-c2f2-06920ed56bc1"
      },
      "source": [
        "cleanup_nums = {\"Topic\": {0: \"Chat Bots\", 1: \"Time Series\", 2:\"Image Processing\",3:\"NLP\"}}\n",
        "text_dataframe.replace(cleanup_nums, inplace=True)\n",
        "text_dataframe"
      ],
      "execution_count": 13,
      "outputs": [
        {
          "output_type": "execute_result",
          "data": {
            "text/html": [
              "<div>\n",
              "<style scoped>\n",
              "    .dataframe tbody tr th:only-of-type {\n",
              "        vertical-align: middle;\n",
              "    }\n",
              "\n",
              "    .dataframe tbody tr th {\n",
              "        vertical-align: top;\n",
              "    }\n",
              "\n",
              "    .dataframe thead th {\n",
              "        text-align: right;\n",
              "    }\n",
              "</style>\n",
              "<table border=\"1\" class=\"dataframe\">\n",
              "  <thead>\n",
              "    <tr style=\"text-align: right;\">\n",
              "      <th></th>\n",
              "      <th>file_name</th>\n",
              "      <th>text</th>\n",
              "      <th>Topic</th>\n",
              "    </tr>\n",
              "  </thead>\n",
              "  <tbody>\n",
              "    <tr>\n",
              "      <th>0</th>\n",
              "      <td>Time series.PNG</td>\n",
              "      <td>Understanding Time Series\\r\\nData\\r\\nIn the pr...</td>\n",
              "      <td>Image Processing</td>\n",
              "    </tr>\n",
              "    <tr>\n",
              "      <th>1</th>\n",
              "      <td>image data.PNG</td>\n",
              "      <td>Tensors - multidimensional arrays\\r\\nNow that ...</td>\n",
              "      <td>Image Processing</td>\n",
              "    </tr>\n",
              "    <tr>\n",
              "      <th>2</th>\n",
              "      <td>chat bots.PNG</td>\n",
              "      <td>CHAPTERI THE BELOVED CHATBOTS\\r\\nYou just type...</td>\n",
              "      <td>Chat Bots</td>\n",
              "    </tr>\n",
              "    <tr>\n",
              "      <th>3</th>\n",
              "      <td>chat bot 2.PNG</td>\n",
              "      <td>Feature Releases and Bug Fixes\\r\\nLots of feat...</td>\n",
              "      <td>Chat Bots</td>\n",
              "    </tr>\n",
              "    <tr>\n",
              "      <th>4</th>\n",
              "      <td>NLP 3.PNG</td>\n",
              "      <td>Natural Language Processing (NLP)\\r\\nNLP is an...</td>\n",
              "      <td>Time Series</td>\n",
              "    </tr>\n",
              "    <tr>\n",
              "      <th>5</th>\n",
              "      <td>Chat Bods Intro.PNG</td>\n",
              "      <td>CHAPTER 1\\r\\nUsing Decision Trees in Chatbots\\...</td>\n",
              "      <td>Chat Bots</td>\n",
              "    </tr>\n",
              "    <tr>\n",
              "      <th>6</th>\n",
              "      <td>NLP2.PNG</td>\n",
              "      <td>1.1\\r\\nNatural language vs. programming langua...</td>\n",
              "      <td>NLP</td>\n",
              "    </tr>\n",
              "    <tr>\n",
              "      <th>7</th>\n",
              "      <td>NLP with Chotbot.PNG</td>\n",
              "      <td>Most chatbots will contain elements of all fiv...</td>\n",
              "      <td>Time Series</td>\n",
              "    </tr>\n",
              "  </tbody>\n",
              "</table>\n",
              "</div>"
            ],
            "text/plain": [
              "              file_name  ...             Topic\n",
              "0       Time series.PNG  ...  Image Processing\n",
              "1        image data.PNG  ...  Image Processing\n",
              "2         chat bots.PNG  ...         Chat Bots\n",
              "3        chat bot 2.PNG  ...         Chat Bots\n",
              "4             NLP 3.PNG  ...       Time Series\n",
              "5   Chat Bods Intro.PNG  ...         Chat Bots\n",
              "6              NLP2.PNG  ...               NLP\n",
              "7  NLP with Chotbot.PNG  ...       Time Series\n",
              "\n",
              "[8 rows x 3 columns]"
            ]
          },
          "metadata": {
            "tags": []
          },
          "execution_count": 13
        }
      ]
    }
  ]
}